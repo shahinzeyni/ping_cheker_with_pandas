{
 "cells": [
  {
   "cell_type": "code",
   "execution_count": 4,
   "metadata": {},
   "outputs": [
    {
     "name": "stdout",
     "output_type": "stream",
     "text": [
      "[]\n"
     ]
    }
   ],
   "source": [
    "import pandas as pd\n",
    "\n",
    "\n",
    "file_path = \"sample.xlsx\" \n",
    "df = pd.read_excel(file_path, header=0)\n",
    "\n",
    "\n",
    "startIdx = 1\n",
    "stopIdx = 100\n",
    "\n",
    "subset = df.iloc[startIdx-2:stopIdx] \n",
    "websites = subset.iloc[:, -1]  \n",
    "\n",
    "\n",
    "print(websites.tolist())\n"
   ]
  },
  {
   "cell_type": "code",
   "execution_count": 5,
   "metadata": {},
   "outputs": [
    {
     "name": "stdout",
     "output_type": "stream",
     "text": [
      "[]\n",
      "[]\n"
     ]
    }
   ],
   "source": [
    "import subprocess\n",
    "import re\n",
    "from typing import List\n",
    "\n",
    "\n",
    "lstIsOk = []\n",
    "lstNotOk = []\n",
    "\n",
    "def ping_and_check_ip(website:List[str], expected_last_segments:str):\n",
    "    for i in website:\n",
    "        output = subprocess.run(\n",
    "            [\"ping\", \"-n\", \"1\", i],  \n",
    "            stdout=subprocess.PIPE,\n",
    "            stderr=subprocess.PIPE,\n",
    "            text=True\n",
    "        )\n",
    "        \n",
    "        ip_match = re.search(r\"\\[(\\d+\\.\\d+\\.\\d+\\.(\\d+))\\]\", output.stdout)\n",
    "        print(ip_match)\n",
    "        data = ip_match.group(1).split(\".\")[-1]\n",
    "        if data in expected_last_segments.split(\"/\"):\n",
    "            lstIsOk.append(i)\n",
    "        else:\n",
    "           lstNotOk.append(i)\n",
    "\n",
    "\n",
    "website = websites.tolist()\n",
    "expected_last_segments = \"32/51\"    \n",
    "\n",
    "\n",
    "ping_and_check_ip(website, expected_last_segments)\n",
    "print(lstIsOk)\n",
    "print(lstNotOk)\n"
   ]
  },
  {
   "cell_type": "code",
   "execution_count": 6,
   "metadata": {},
   "outputs": [],
   "source": [
    "import openpyxl\n",
    "from openpyxl.styles import PatternFill,Font\n",
    "\n",
    "file_path = 'sample.xlsx'  \n",
    "workbook = openpyxl.load_workbook(file_path)\n",
    "sheet = workbook.active\n",
    "\n",
    "new_column = 'D'  \n",
    "red_fill = PatternFill(start_color=\"FF0000\", end_color=\"FF0000\", fill_type=\"solid\")\n",
    "green_fill = PatternFill(start_color=\"00FF00\", end_color=\"00FF00\", fill_type=\"solid\")\n",
    "white_font = Font(color=\"FFFFFF\")\n",
    "\n",
    "for row in range(2, sheet.max_row + 1):\n",
    "    website = sheet[f'C{row}'].value  \n",
    "    # print(website)\n",
    "    item = sheet[f'{new_column}{row}']\n",
    "    if website in lstIsOk:\n",
    "        sheet[f'{new_column}{row}'] = 'Changed' \n",
    "        item.fill = green_fill\n",
    "        item.font = white_font\n",
    "\n",
    "    elif website in lstNotOk:\n",
    "        sheet[f'{new_column}{row}'] = 'No' \n",
    "        item.fill = red_fill\n",
    "        item.font = white_font\n",
    "\n",
    "workbook.save(\"updated_file1.xlsx\")  \n"
   ]
  },
  {
   "cell_type": "code",
   "execution_count": null,
   "metadata": {},
   "outputs": [],
   "source": []
  }
 ],
 "metadata": {
  "kernelspec": {
   "display_name": "Python 3",
   "language": "python",
   "name": "python3"
  },
  "language_info": {
   "codemirror_mode": {
    "name": "ipython",
    "version": 3
   },
   "file_extension": ".py",
   "mimetype": "text/x-python",
   "name": "python",
   "nbconvert_exporter": "python",
   "pygments_lexer": "ipython3",
   "version": "3.8.0"
  }
 },
 "nbformat": 4,
 "nbformat_minor": 2
}
